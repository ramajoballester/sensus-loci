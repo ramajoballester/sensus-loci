{
 "cells": [
  {
   "cell_type": "code",
   "execution_count": 7,
   "metadata": {},
   "outputs": [],
   "source": [
    "import os\n",
    "\n",
    "import mmdet3d\n",
    "import numpy as np\n",
    "import pickle\n",
    "\n",
    "import sensus\n",
    "\n",
    "import mmcv\n",
    "import numpy as np\n",
    "from mmengine import load\n",
    "\n",
    "from mmdet3d.visualization import Det3DLocalVisualizer"
   ]
  },
  {
   "cell_type": "code",
   "execution_count": 2,
   "metadata": {},
   "outputs": [],
   "source": [
    "# Load pickle file /home/breaststroker/alvaro/sensus-loci/sensus/output/pred_instances_3d.pkl\n",
    "with open('/home/breaststroker/alvaro/sensus-loci/sensus/output/pred_instances_3d.pkl', 'rb') as f:\n",
    "    data = pickle.load(f)"
   ]
  },
  {
   "cell_type": "code",
   "execution_count": 6,
   "metadata": {},
   "outputs": [
    {
     "data": {
      "text/plain": [
       "{'name': array(['Cyclist', 'Car', 'Car', 'Car', 'Car'], dtype='<U7'),\n",
       " 'truncated': array([0., 0., 0., 0., 0.]),\n",
       " 'occluded': array([0, 0, 0, 0, 0]),\n",
       " 'alpha': array([ 0.39244702,  1.0431876 ,  0.9880419 , -2.905957  , -3.0056748 ],\n",
       "       dtype=float32),\n",
       " 'bbox': array([[1196.0505 ,  227.70616, 1242.2324 ,  292.01785],\n",
       "        [1769.1957 ,  278.02356, 1920.     ,  361.1773 ],\n",
       "        [1842.154  ,  286.1051 , 1920.     ,  370.17175],\n",
       "        [ 217.52704,  278.47372,  351.82767,  359.16714],\n",
       "        [ 301.56747,  251.40924,  400.5462 ,  320.6207 ]], dtype=float32),\n",
       " 'dimensions': array([[0.61152726, 1.6341318 , 1.7058103 ],\n",
       "        [1.813927  , 1.5819175 , 4.0964017 ],\n",
       "        [1.8346976 , 1.4948756 , 4.4094176 ],\n",
       "        [1.9458923 , 1.6032032 , 4.3178353 ],\n",
       "        [1.8467968 , 1.5376371 , 4.2048836 ]], dtype=float32),\n",
       " 'location': array([[  7.6608663,  -7.267102 ,  66.837776 ],\n",
       "        [ 20.50932  ,  -3.9227557,  49.530403 ],\n",
       "        [ 21.055077 ,  -3.4856257,  46.269463 ],\n",
       "        [-18.307915 ,  -4.7879844,  58.71979  ],\n",
       "        [-18.998535 ,  -6.6102943,  67.418526 ]], dtype=float32),\n",
       " 'rotation_y': array([ 0.6549984,  1.5986896,  1.5818372, -3.0544891, -3.1368566],\n",
       "       dtype=float32),\n",
       " 'score': array([0.4377835 , 0.69407684, 0.46569505, 0.42027545, 0.25103685],\n",
       "       dtype=float32),\n",
       " 'sample_idx': array([0, 0, 0, 0, 0])}"
      ]
     },
     "execution_count": 6,
     "metadata": {},
     "output_type": "execute_result"
    }
   ],
   "source": [
    "data[0]"
   ]
  },
  {
   "cell_type": "code",
   "execution_count": 14,
   "metadata": {},
   "outputs": [],
   "source": [
    "info_file = load('../../mmdetection3d/demo/data/kitti/000008.pkl')\n",
    "points = np.fromfile('../../mmdetection3d/demo/data/kitti/000008.bin', dtype=np.float32)\n",
    "points = points.reshape(-1, 4)[:, :3]\n",
    "lidar2img = np.array(info_file['data_list'][0]['images']['CAM2']['lidar2img'], dtype=np.float32)\n",
    "\n",
    "visualizer = Det3DLocalVisualizer(save_dir='.')\n",
    "img = mmcv.imread('../../mmdetection3d/demo/data/kitti/000008.png')\n",
    "img = mmcv.imconvert(img, 'bgr', 'rgb')\n",
    "visualizer.set_image(img)\n",
    "visualizer.draw_points_on_image(points, lidar2img)\n",
    "visualizer.show(save_path='.')"
   ]
  },
  {
   "cell_type": "code",
   "execution_count": 13,
   "metadata": {},
   "outputs": [
    {
     "name": "stdout",
     "output_type": "stream",
     "text": [
      "\u001b[0;31mSignature:\u001b[0m\n",
      "\u001b[0mvisualizer\u001b[0m\u001b[0;34m.\u001b[0m\u001b[0mshow\u001b[0m\u001b[0;34m(\u001b[0m\u001b[0;34m\u001b[0m\n",
      "\u001b[0;34m\u001b[0m    \u001b[0msave_path\u001b[0m\u001b[0;34m:\u001b[0m \u001b[0mUnion\u001b[0m\u001b[0;34m[\u001b[0m\u001b[0mstr\u001b[0m\u001b[0;34m,\u001b[0m \u001b[0mNoneType\u001b[0m\u001b[0;34m]\u001b[0m \u001b[0;34m=\u001b[0m \u001b[0;32mNone\u001b[0m\u001b[0;34m,\u001b[0m\u001b[0;34m\u001b[0m\n",
      "\u001b[0;34m\u001b[0m    \u001b[0mdrawn_img_3d\u001b[0m\u001b[0;34m:\u001b[0m \u001b[0mUnion\u001b[0m\u001b[0;34m[\u001b[0m\u001b[0mnumpy\u001b[0m\u001b[0;34m.\u001b[0m\u001b[0mndarray\u001b[0m\u001b[0;34m,\u001b[0m \u001b[0mNoneType\u001b[0m\u001b[0;34m]\u001b[0m \u001b[0;34m=\u001b[0m \u001b[0;32mNone\u001b[0m\u001b[0;34m,\u001b[0m\u001b[0;34m\u001b[0m\n",
      "\u001b[0;34m\u001b[0m    \u001b[0mdrawn_img\u001b[0m\u001b[0;34m:\u001b[0m \u001b[0mUnion\u001b[0m\u001b[0;34m[\u001b[0m\u001b[0mnumpy\u001b[0m\u001b[0;34m.\u001b[0m\u001b[0mndarray\u001b[0m\u001b[0;34m,\u001b[0m \u001b[0mNoneType\u001b[0m\u001b[0;34m]\u001b[0m \u001b[0;34m=\u001b[0m \u001b[0;32mNone\u001b[0m\u001b[0;34m,\u001b[0m\u001b[0;34m\u001b[0m\n",
      "\u001b[0;34m\u001b[0m    \u001b[0mwin_name\u001b[0m\u001b[0;34m:\u001b[0m \u001b[0mstr\u001b[0m \u001b[0;34m=\u001b[0m \u001b[0;34m'image'\u001b[0m\u001b[0;34m,\u001b[0m\u001b[0;34m\u001b[0m\n",
      "\u001b[0;34m\u001b[0m    \u001b[0mwait_time\u001b[0m\u001b[0;34m:\u001b[0m \u001b[0mint\u001b[0m \u001b[0;34m=\u001b[0m \u001b[0;34m-\u001b[0m\u001b[0;36m1\u001b[0m\u001b[0;34m,\u001b[0m\u001b[0;34m\u001b[0m\n",
      "\u001b[0;34m\u001b[0m    \u001b[0mcontinue_key\u001b[0m\u001b[0;34m:\u001b[0m \u001b[0mstr\u001b[0m \u001b[0;34m=\u001b[0m \u001b[0;34m'right'\u001b[0m\u001b[0;34m,\u001b[0m\u001b[0;34m\u001b[0m\n",
      "\u001b[0;34m\u001b[0m    \u001b[0mvis_task\u001b[0m\u001b[0;34m:\u001b[0m \u001b[0mstr\u001b[0m \u001b[0;34m=\u001b[0m \u001b[0;34m'lidar_det'\u001b[0m\u001b[0;34m,\u001b[0m\u001b[0;34m\u001b[0m\n",
      "\u001b[0;34m\u001b[0m\u001b[0;34m)\u001b[0m \u001b[0;34m->\u001b[0m \u001b[0;32mNone\u001b[0m\u001b[0;34m\u001b[0m\u001b[0;34m\u001b[0m\u001b[0m\n",
      "\u001b[0;31mDocstring:\u001b[0m\n",
      "Show the drawn point cloud/image.\n",
      "\n",
      "Args:\n",
      "    save_path (str, optional): Path to save open3d visualized results.\n",
      "        Defaults to None.\n",
      "    drawn_img_3d (np.ndarray, optional): The image to show. If\n",
      "        drawn_img_3d is not None, it will show the image got by\n",
      "        Visualizer. Defaults to None.\n",
      "    drawn_img (np.ndarray, optional): The image to show. If drawn_img\n",
      "        is not None, it will show the image got by Visualizer.\n",
      "        Defaults to None.\n",
      "    win_name (str): The image title. Defaults to 'image'.\n",
      "    wait_time (int): Delay in milliseconds. 0 is the special value that\n",
      "        means \"forever\". Defaults to 0.\n",
      "    continue_key (str): The key for users to continue. Defaults to ' '.\n",
      "\u001b[0;31mFile:\u001b[0m      ~/alvaro/sensus-loci/mmdetection3d/mmdet3d/visualization/local_visualizer.py\n",
      "\u001b[0;31mType:\u001b[0m      method"
     ]
    }
   ],
   "source": [
    "visualizer.show?"
   ]
  },
  {
   "cell_type": "code",
   "execution_count": null,
   "metadata": {},
   "outputs": [],
   "source": []
  },
  {
   "cell_type": "code",
   "execution_count": null,
   "metadata": {},
   "outputs": [],
   "source": []
  },
  {
   "cell_type": "code",
   "execution_count": null,
   "metadata": {},
   "outputs": [],
   "source": []
  },
  {
   "cell_type": "code",
   "execution_count": null,
   "metadata": {},
   "outputs": [],
   "source": []
  },
  {
   "cell_type": "code",
   "execution_count": null,
   "metadata": {},
   "outputs": [],
   "source": [
    "dair_infos_val"
   ]
  }
 ],
 "metadata": {
  "kernelspec": {
   "display_name": "sensus",
   "language": "python",
   "name": "python3"
  },
  "language_info": {
   "codemirror_mode": {
    "name": "ipython",
    "version": 3
   },
   "file_extension": ".py",
   "mimetype": "text/x-python",
   "name": "python",
   "nbconvert_exporter": "python",
   "pygments_lexer": "ipython3",
   "version": "3.8.18"
  }
 },
 "nbformat": 4,
 "nbformat_minor": 2
}
