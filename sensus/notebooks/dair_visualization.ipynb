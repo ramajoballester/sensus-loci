{
 "cells": [
  {
   "cell_type": "code",
   "execution_count": 30,
   "metadata": {},
   "outputs": [],
   "source": [
    "import os\n",
    "from os import path as osp\n",
    "import numpy as np\n",
    "\n",
    "from mmengine.config import Config, DictAction\n",
    "from mmengine.registry import init_default_scope\n",
    "from mmengine.utils import ProgressBar, mkdir_or_exist\n",
    "\n",
    "from mmdet3d.registry import DATASETS, VISUALIZERS\n",
    "from mmdet3d.utils import replace_ceph_backend"
   ]
  },
  {
   "cell_type": "code",
   "execution_count": 3,
   "metadata": {},
   "outputs": [],
   "source": [
    "os.chdir('../')"
   ]
  },
  {
   "cell_type": "code",
   "execution_count": 4,
   "metadata": {},
   "outputs": [],
   "source": [
    "def build_data_cfg(config_path, aug, cfg_options):\n",
    "    \"\"\"Build data config for loading visualization data.\"\"\"\n",
    "\n",
    "    cfg = Config.fromfile(config_path)\n",
    "    if cfg_options is not None:\n",
    "        cfg.merge_from_dict(cfg_options)\n",
    "\n",
    "    # extract inner dataset of `RepeatDataset` as\n",
    "    # `cfg.train_dataloader.dataset` so we don't\n",
    "    # need to worry about it later\n",
    "    if cfg.train_dataloader.dataset['type'] == 'RepeatDataset':\n",
    "        cfg.train_dataloader.dataset = cfg.train_dataloader.dataset.dataset\n",
    "    # use only first dataset for `ConcatDataset`\n",
    "    if cfg.train_dataloader.dataset['type'] == 'ConcatDataset':\n",
    "        cfg.train_dataloader.dataset = cfg.train_dataloader.dataset.datasets[0]\n",
    "    if cfg.train_dataloader.dataset['type'] == 'CBGSDataset':\n",
    "        cfg.train_dataloader.dataset = cfg.train_dataloader.dataset.dataset\n",
    "\n",
    "    train_data_cfg = cfg.train_dataloader.dataset\n",
    "\n",
    "    if aug:\n",
    "        show_pipeline = cfg.train_pipeline\n",
    "    else:\n",
    "        show_pipeline = cfg.test_pipeline\n",
    "        for i in range(len(cfg.train_pipeline)):\n",
    "            if cfg.train_pipeline[i]['type'] == 'LoadAnnotations3D':\n",
    "                show_pipeline.insert(i, cfg.train_pipeline[i])\n",
    "            # Collect data as well as labels\n",
    "            if cfg.train_pipeline[i]['type'] == 'Pack3DDetInputs':\n",
    "                if show_pipeline[-1]['type'] == 'Pack3DDetInputs':\n",
    "                    show_pipeline[-1] = cfg.train_pipeline[i]\n",
    "                else:\n",
    "                    show_pipeline.append(cfg.train_pipeline[i])\n",
    "\n",
    "    train_data_cfg['pipeline'] = show_pipeline\n",
    "\n",
    "    return cfg"
   ]
  },
  {
   "cell_type": "code",
   "execution_count": 5,
   "metadata": {},
   "outputs": [
    {
     "name": "stdout",
     "output_type": "stream",
     "text": [
      "Jupyter environment detected. Enabling Open3D WebVisualizer.\n",
      "[Open3D INFO] WebRTC GUI backend enabled.\n",
      "[Open3D INFO] WebRTCWindowSystem: HTTP handshake server disabled.\n",
      "[Open3D INFO] Resetting default logger to print to terminal.\n"
     ]
    }
   ],
   "source": [
    "from sensus import configs"
   ]
  },
  {
   "cell_type": "code",
   "execution_count": null,
   "metadata": {},
   "outputs": [],
   "source": [
    "190"
   ]
  },
  {
   "cell_type": "code",
   "execution_count": 6,
   "metadata": {},
   "outputs": [],
   "source": [
    "config_path = osp.join(configs.__path__[0], '_base_', 'datasets',\n",
    "    'dair-infrastructure-3d-3class.py')"
   ]
  },
  {
   "cell_type": "code",
   "execution_count": 7,
   "metadata": {},
   "outputs": [],
   "source": [
    "cfg = build_data_cfg(config_path, False, None)\n",
    "init_default_scope(cfg.get('default_scope', 'mmdet3d'))\n",
    "vis_task = 'lidar_det'"
   ]
  },
  {
   "cell_type": "code",
   "execution_count": 8,
   "metadata": {},
   "outputs": [
    {
     "name": "stdout",
     "output_type": "stream",
     "text": [
      "02/24 23:56:56 - mmengine - \u001b[4m\u001b[97mINFO\u001b[0m - ------------------------------\n",
      "02/24 23:56:56 - mmengine - \u001b[4m\u001b[97mINFO\u001b[0m - The length of training dataset: 8800\n",
      "02/24 23:56:56 - mmengine - \u001b[4m\u001b[97mINFO\u001b[0m - The number of instances per category in the dataset:\n",
      "+------------+--------+\n",
      "| category   | number |\n",
      "+------------+--------+\n",
      "| Pedestrian | 19444  |\n",
      "| Cyclist    | 9304   |\n",
      "| Car        | 94936  |\n",
      "+------------+--------+\n"
     ]
    }
   ],
   "source": [
    "dataset = DATASETS.build(\n",
    "    cfg.train_dataloader.dataset,\n",
    "    default_args=dict(filter_empty_gt=False))"
   ]
  },
  {
   "cell_type": "code",
   "execution_count": 9,
   "metadata": {},
   "outputs": [],
   "source": [
    "for i, item in enumerate(dataset):\n",
    "    # the 3D Boxes in input could be in any of three coordinates\n",
    "    data_input = item['inputs']\n",
    "    data_sample = item['data_samples'].numpy()\n",
    "    if i == 190:\n",
    "        break"
   ]
  },
  {
   "cell_type": "code",
   "execution_count": 16,
   "metadata": {},
   "outputs": [
    {
     "data": {
      "text/plain": [
       "['gt_instances_3d', 'gt_pts_seg', 'gt_instances', 'eval_ann_info']"
      ]
     },
     "execution_count": 16,
     "metadata": {},
     "output_type": "execute_result"
    }
   ],
   "source": [
    "data_sample.keys()"
   ]
  },
  {
   "cell_type": "code",
   "execution_count": 26,
   "metadata": {},
   "outputs": [
    {
     "data": {
      "text/plain": [
       "tensor([[ 88.3596,  -9.4646,  -1.8232,   1.8111,   4.2418,   2.3550,  -1.5654],\n",
       "        [ 65.8941,   9.5356,  -1.6752,   1.9200,   4.2792,   1.6270,   1.5677],\n",
       "        [ 43.6112, -21.2305,  -1.6285,   0.6517,   1.7719,   1.6144,  -1.5503],\n",
       "        [ 44.3531, -28.1597,  -1.5563,   1.8030,   4.2799,   1.4030,  -3.1358],\n",
       "        [ 33.8514, -24.2825,  -1.6833,   1.9026,   4.5430,   1.5883,  -0.5310],\n",
       "        [ 63.2716, -15.6731,  -1.8126,   0.7301,   1.8201,   1.5227,   1.3153],\n",
       "        [ 24.6383, -18.3547,  -1.7647,   1.8457,   4.2715,   1.6311,  -1.2149]])"
      ]
     },
     "execution_count": 26,
     "metadata": {},
     "output_type": "execute_result"
    }
   ],
   "source": [
    "data_sample.gt_instances_3d.bboxes_3d.tensor"
   ]
  },
  {
   "cell_type": "code",
   "execution_count": 27,
   "metadata": {},
   "outputs": [],
   "source": [
    "a = data_sample.gt_instances_3d.bboxes_3d.tensor"
   ]
  },
  {
   "cell_type": "code",
   "execution_count": 39,
   "metadata": {},
   "outputs": [],
   "source": [
    "def flip_horiz_roty(bboxes):\n",
    "    x = np.pi - bboxes[:, 6]\n",
    "    x = np.arctan2(np.sin(x), np.cos(x))\n",
    "    bboxes[:, 6] = x\n",
    "    return bboxes"
   ]
  },
  {
   "cell_type": "code",
   "execution_count": 40,
   "metadata": {},
   "outputs": [
    {
     "data": {
      "text/plain": [
       "tensor([[ 8.8360e+01, -9.4646e+00, -1.8232e+00,  1.8111e+00,  4.2418e+00,\n",
       "          2.3550e+00, -1.5762e+00],\n",
       "        [ 6.5894e+01,  9.5356e+00, -1.6752e+00,  1.9200e+00,  4.2792e+00,\n",
       "          1.6270e+00,  1.5738e+00],\n",
       "        [ 4.3611e+01, -2.1230e+01, -1.6285e+00,  6.5175e-01,  1.7719e+00,\n",
       "          1.6144e+00, -1.5913e+00],\n",
       "        [ 4.4353e+01, -2.8160e+01, -1.5563e+00,  1.8030e+00,  4.2799e+00,\n",
       "          1.4030e+00, -5.7562e-03],\n",
       "        [ 3.3851e+01, -2.4283e+01, -1.6833e+00,  1.9026e+00,  4.5430e+00,\n",
       "          1.5883e+00, -2.6106e+00],\n",
       "        [ 6.3272e+01, -1.5673e+01, -1.8126e+00,  7.3014e-01,  1.8201e+00,\n",
       "          1.5227e+00,  1.8263e+00],\n",
       "        [ 2.4638e+01, -1.8355e+01, -1.7647e+00,  1.8457e+00,  4.2715e+00,\n",
       "          1.6311e+00, -1.9267e+00]])"
      ]
     },
     "execution_count": 40,
     "metadata": {},
     "output_type": "execute_result"
    }
   ],
   "source": [
    "# Print torch tensor with decimal places instead of scientific notation\n",
    "np.set_printoptions(precision=3, suppress=True)\n",
    "flip_horiz_roty(a)"
   ]
  },
  {
   "cell_type": "code",
   "execution_count": 37,
   "metadata": {},
   "outputs": [],
   "source": [
    "def wrap_to_pi(x):\n",
    "    return np.arctan2(np.sin(x), np.cos(x))"
   ]
  },
  {
   "cell_type": "code",
   "execution_count": 38,
   "metadata": {},
   "outputs": [
    {
     "data": {
      "text/plain": [
       "-1.9415926535897932"
      ]
     },
     "execution_count": 38,
     "metadata": {},
     "output_type": "execute_result"
    }
   ],
   "source": [
    "x = -1.2\n",
    "wrap_to_pi(-(x - np.pi/2) + np.pi/2)"
   ]
  }
 ],
 "metadata": {
  "kernelspec": {
   "display_name": "sensus",
   "language": "python",
   "name": "python3"
  },
  "language_info": {
   "codemirror_mode": {
    "name": "ipython",
    "version": 3
   },
   "file_extension": ".py",
   "mimetype": "text/x-python",
   "name": "python",
   "nbconvert_exporter": "python",
   "pygments_lexer": "ipython3",
   "version": "3.8.18"
  }
 },
 "nbformat": 4,
 "nbformat_minor": 2
}
