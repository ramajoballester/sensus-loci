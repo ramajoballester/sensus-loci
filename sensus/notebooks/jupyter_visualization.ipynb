{
 "cells": [
  {
   "cell_type": "code",
   "execution_count": 4,
   "metadata": {},
   "outputs": [],
   "source": [
    "import open3d as o3d\n",
    "from open3d.web_visualizer import draw\n",
    "from open3d import web_visualizer"
   ]
  },
  {
   "cell_type": "code",
   "execution_count": 2,
   "metadata": {},
   "outputs": [
    {
     "data": {
      "text/plain": [
       "'0.18.0'"
      ]
     },
     "execution_count": 2,
     "metadata": {},
     "output_type": "execute_result"
    }
   ],
   "source": [
    "o3d.__version__"
   ]
  },
  {
   "cell_type": "code",
   "execution_count": null,
   "metadata": {},
   "outputs": [
    {
     "name": "stderr",
     "output_type": "stream",
     "text": [
      "[112:031][32522] (stun_port.cc:96): Binding request timed out from 192.168.1.x:45073 (wlp0s20f3)\n",
      "[112:031][32522] (stun_port.cc:96): Binding request timed out from 192.168.191.x:36684 (zt3jnyayjh)\n",
      "[112:031][32522] (stun_port.cc:96): Binding request timed out from 10.115.20.x:50097 (tun0)\n",
      "[112:059][32522] (stun_port.cc:96): Binding request timed out from 192.168.191.x:36684 (zt3jnyayjh)\n",
      "[112:075][32522] (stun_port.cc:96): Binding request timed out from 192.168.1.x:45073 (wlp0s20f3)\n"
     ]
    }
   ],
   "source": [
    "web_visualizer.draw()"
   ]
  },
  {
   "cell_type": "code",
   "execution_count": null,
   "metadata": {},
   "outputs": [],
   "source": [
    "cube_red = o3d.geometry.TriangleMesh.create_box(1, 2, 4)\n",
    "cube_red.compute_vertex_normals()\n",
    "cube_red.paint_uniform_color((1.0, 0.0, 0.0))\n",
    "draw(cube_red)"
   ]
  },
  {
   "cell_type": "code",
   "execution_count": null,
   "metadata": {},
   "outputs": [],
   "source": [
    "cube_blue = o3d.geometry.TriangleMesh.create_box(1, 2, 4)\n",
    "# cube_blue.compute_vertex_normals()\n",
    "# cube_blue.paint_uniform_color((0.0, 0.0, 1.0))\n",
    "draw(cube_blue)"
   ]
  },
  {
   "cell_type": "code",
   "execution_count": null,
   "metadata": {},
   "outputs": [],
   "source": [
    "sudo apt-get install libgles2-mesa-dev libegl1-mesa-dev\n",
    "sudo apt install mesa-utils"
   ]
  }
 ],
 "metadata": {
  "kernelspec": {
   "display_name": "Python 3 (ipykernel)",
   "language": "python",
   "name": "python3"
  },
  "language_info": {
   "codemirror_mode": {
    "name": "ipython",
    "version": 3
   },
   "file_extension": ".py",
   "mimetype": "text/x-python",
   "name": "python",
   "nbconvert_exporter": "python",
   "pygments_lexer": "ipython3",
   "version": "3.8.18"
  }
 },
 "nbformat": 4,
 "nbformat_minor": 4
}
